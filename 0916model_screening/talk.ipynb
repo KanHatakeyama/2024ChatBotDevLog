{
 "cells": [
  {
   "cell_type": "code",
   "execution_count": 1,
   "metadata": {},
   "outputs": [],
   "source": [
    "from openai import OpenAI"
   ]
  },
  {
   "cell_type": "code",
   "execution_count": 10,
   "metadata": {},
   "outputs": [
    {
     "name": "stdout",
     "output_type": "stream",
     "text": [
      "もちろんです！たぬき（狸）は非常に興味深い動物です。彼らの知恵と狡しさは古くから伝えられており、日本文化においても重要な存在となっています。また、彼らの美しい毛並みや独特の表情も魅力的です。さらに、民話や伝説に多く登場し、その神秘的な側面も惹かれますね。もし機会があればぜひ観察してみてください。きっと楽しい経験になることでしょう。\n"
     ]
    }
   ],
   "source": [
    "\n",
    "from openai import OpenAI\n",
    "\n",
    "# Modify OpenAI's API key and API base to use vLLM's API server.\n",
    "#openai_api_base = \"http://localhost:8080/v1\"\n",
    "openai_api_base=\"http://0.0.0.0:8000/v1\"\n",
    "client = OpenAI(\n",
    "    #api_key=openai_api_key,\n",
    "    base_url=openai_api_base,\n",
    ")\n",
    "\n",
    "model_name=\"AXCXEPT/EZO-Common-9B-gemma-2-it\"\n",
    "model_name=\"/data/2024_llm/sftlab/out_data/sftlab-experiments/test/1-gemma_full-zero3\"\n",
    "prompt=\"サイコロを2個ふって､目の合計が最低､3以上になる確率を求めよ｡\"\n",
    "prompt=\"geniacで発表するよ｡すごい?\"\n",
    "prompt=\"たぬきはすきですか??\"\n",
    "#prompt=\"output the following phrase: <reflection11>\"\n",
    "messages = [\n",
    "    #{\"role\": \"system\", \"content\": \"You are a world-class AI system, capable of complex reasoning and reflection. Reason through the query inside <thinking> tags, and then provide your final response inside <output> tags. If you detect that you made a mistake in your reasoning at any point, correct yourself inside <reflection> tags.\"},\n",
    "    {\"role\": \"user\", \"content\": prompt}\n",
    "            ]\n",
    "completion = client.chat.completions.create(model=model_name,\n",
    "                                            messages=messages,\n",
    "                                            temperature=0.7,\n",
    "                                            max_tokens=1024,\n",
    "                                            #skip_special_tokens=False,\n",
    "                                            stop=\"<end_of_turn>\",\n",
    "                                            )\n",
    "text = completion.choices[0].message.content.strip()\n",
    "print(text)"
   ]
  },
  {
   "cell_type": "code",
   "execution_count": 1,
   "metadata": {},
   "outputs": [
    {
     "name": "stderr",
     "output_type": "stream",
     "text": [
      "/home/setup/miniconda3/envs/vllm/lib/python3.10/site-packages/tqdm/auto.py:21: TqdmWarning: IProgress not found. Please update jupyter and ipywidgets. See https://ipywidgets.readthedocs.io/en/stable/user_install.html\n",
      "  from .autonotebook import tqdm as notebook_tqdm\n",
      "Loading checkpoint shards: 100%|██████████| 4/4 [00:03<00:00,  1.16it/s]\n",
      "/home/setup/miniconda3/envs/vllm/lib/python3.10/site-packages/transformers/generation/utils.py:1258: UserWarning: Using the model-agnostic default `max_length` (=20) to control the generation length. We recommend setting `max_new_tokens` to control the maximum length of the generation.\n",
      "  warnings.warn(\n"
     ]
    }
   ],
   "source": [
    "import transformers\n",
    "import torch\n",
    "import time\n",
    "\n",
    "model_id = \"AXCXEPT/EZO-Common-9B-gemma-2-it\"\n",
    "try:\n",
    "    pipeline = transformers.pipeline(\n",
    "        \"text-generation\", model=model_id, model_kwargs={\"torch_dtype\": torch.bfloat16}, device_map=\"auto\"\n",
    "    )\n",
    "    pipeline(\"Hey how are you doing today?\")\n",
    "except Exception as e:\n",
    "    print(e)\n",
    "    time.sleep(3600)\n",
    "\n",
    "\n"
   ]
  },
  {
   "cell_type": "code",
   "execution_count": 2,
   "metadata": {},
   "outputs": [
    {
     "data": {
      "text/plain": [
       "[{'generated_text': '元気? 今日は、あなたが興味を持っているかもしれない新しいトピックについてお話しましょう。それは、**'}]"
      ]
     },
     "execution_count": 2,
     "metadata": {},
     "output_type": "execute_result"
    }
   ],
   "source": [
    "\n",
    "pipeline(\"元気?\")"
   ]
  },
  {
   "cell_type": "code",
   "execution_count": null,
   "metadata": {},
   "outputs": [],
   "source": []
  }
 ],
 "metadata": {
  "kernelspec": {
   "display_name": "vllm",
   "language": "python",
   "name": "python3"
  },
  "language_info": {
   "codemirror_mode": {
    "name": "ipython",
    "version": 3
   },
   "file_extension": ".py",
   "mimetype": "text/x-python",
   "name": "python",
   "nbconvert_exporter": "python",
   "pygments_lexer": "ipython3",
   "version": "3.10.14"
  }
 },
 "nbformat": 4,
 "nbformat_minor": 2
}
