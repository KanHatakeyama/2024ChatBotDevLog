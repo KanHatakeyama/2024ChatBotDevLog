{
 "cells": [
  {
   "cell_type": "code",
   "execution_count": 38,
   "metadata": {},
   "outputs": [],
   "source": [
    "# 対話データの清掃"
   ]
  },
  {
   "cell_type": "code",
   "execution_count": 39,
   "metadata": {},
   "outputs": [
    {
     "data": {
      "text/plain": [
       "10"
      ]
     },
     "execution_count": 39,
     "metadata": {},
     "output_type": "execute_result"
    }
   ],
   "source": [
    "import json\n",
    "import glob\n",
    "\n",
    "dir_list=[\n",
    "    \"/data/2024_llm/0919gen_multiturn/data\",\n",
    "    \"/data/2024_llm/0917neko_gen/data\",\n",
    "]\n",
    "jsonl_path_list=[]\n",
    "for dir in dir_list:\n",
    "    jsonl_path_list+=glob.glob(dir+\"/*.jsonl\")\n",
    "\n",
    "len(jsonl_path_list)"
   ]
  },
  {
   "cell_type": "code",
   "execution_count": 40,
   "metadata": {},
   "outputs": [],
   "source": [
    "conv_list=[]\n",
    "for jsonl_path in jsonl_path_list:\n",
    "    with open(jsonl_path) as f:\n",
    "        for line in f:\n",
    "            conv_list.append(json.loads(line))"
   ]
  },
  {
   "cell_type": "code",
   "execution_count": 41,
   "metadata": {},
   "outputs": [
    {
     "data": {
      "text/plain": [
       "25861"
      ]
     },
     "execution_count": 41,
     "metadata": {},
     "output_type": "execute_result"
    }
   ],
   "source": [
    "len(conv_list)"
   ]
  },
  {
   "cell_type": "code",
   "execution_count": 42,
   "metadata": {},
   "outputs": [
    {
     "data": {
      "text/plain": [
       "25635"
      ]
     },
     "execution_count": 42,
     "metadata": {},
     "output_type": "execute_result"
    }
   ],
   "source": [
    "i=0\n",
    "cleaned_messages=[]\n",
    "for i in range(len(conv_list)):\n",
    "    messages = conv_list[i]\n",
    "\n",
    "    # トークン長の都合で空のmessageを削除\n",
    "    temp_messages = [message for message in messages[\"messages\"] if message[\"content\"] != \"\"]\n",
    "\n",
    "    # トークン長やバグ出力の問題で文末が切れているデータを削除\n",
    "    while len(temp_messages) > 0 and temp_messages[-1][\"content\"][-1] != \"。\":\n",
    "        # 文末が「。」で終わっていない場合、最後のメッセージを削除\n",
    "        temp_messages = temp_messages[:-1]\n",
    "    if len(temp_messages) == 0:\n",
    "        continue\n",
    "    cleaned_messages.append({\"messages\": temp_messages})\n",
    "\n",
    "len(cleaned_messages)"
   ]
  },
  {
   "cell_type": "code",
   "execution_count": 43,
   "metadata": {},
   "outputs": [],
   "source": [
    "import datasets\n",
    "dataset = datasets.Dataset.from_list(cleaned_messages)"
   ]
  },
  {
   "cell_type": "code",
   "execution_count": 44,
   "metadata": {},
   "outputs": [
    {
     "name": "stderr",
     "output_type": "stream",
     "text": [
      "Creating parquet from Arrow format: 100%|██████████| 26/26 [00:00<00:00, 214.15ba/s]\n",
      "Uploading the dataset shards: 100%|██████████| 1/1 [00:03<00:00,  3.92s/it]\n"
     ]
    },
    {
     "data": {
      "text/plain": [
       "CommitInfo(commit_url='https://huggingface.co/datasets/kanhatakeyama/multiturn-conv-from-aozora-bunko/commit/6c962d36c88fa1d16c6fc5a7c0221e43a3287954', commit_message='Upload dataset', commit_description='', oid='6c962d36c88fa1d16c6fc5a7c0221e43a3287954', pr_url=None, pr_revision=None, pr_num=None)"
      ]
     },
     "execution_count": 44,
     "metadata": {},
     "output_type": "execute_result"
    }
   ],
   "source": [
    "#push to hub\n",
    "dataset.push_to_hub(\"kanhatakeyama/multiturn-conv-from-aozora-bunko\")"
   ]
  },
  {
   "cell_type": "code",
   "execution_count": null,
   "metadata": {},
   "outputs": [],
   "source": []
  }
 ],
 "metadata": {
  "kernelspec": {
   "display_name": "vllm",
   "language": "python",
   "name": "python3"
  },
  "language_info": {
   "codemirror_mode": {
    "name": "ipython",
    "version": 3
   },
   "file_extension": ".py",
   "mimetype": "text/x-python",
   "name": "python",
   "nbconvert_exporter": "python",
   "pygments_lexer": "ipython3",
   "version": "3.10.14"
  }
 },
 "nbformat": 4,
 "nbformat_minor": 2
}
