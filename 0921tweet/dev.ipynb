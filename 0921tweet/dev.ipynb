{
 "cells": [
  {
   "cell_type": "code",
   "execution_count": 1,
   "metadata": {},
   "outputs": [
    {
     "name": "stderr",
     "output_type": "stream",
     "text": [
      "/home/setup/miniconda3/envs/sft/lib/python3.11/site-packages/tqdm/auto.py:21: TqdmWarning: IProgress not found. Please update jupyter and ipywidgets. See https://ipywidgets.readthedocs.io/en/stable/user_install.html\n",
      "  from .autonotebook import tqdm as notebook_tqdm\n"
     ]
    }
   ],
   "source": [
    "\n",
    "import transformers\n"
   ]
  },
  {
   "cell_type": "code",
   "execution_count": 2,
   "metadata": {},
   "outputs": [
    {
     "name": "stderr",
     "output_type": "stream",
     "text": [
      "Loading checkpoint shards: 100%|██████████| 4/4 [00:01<00:00,  2.80it/s]\n"
     ]
    }
   ],
   "source": [
    "model_id=\"weblab-GENIAC/Tanuki-8B-dpo-v1.0\"\n",
    "adapter_id=\"/data/2024_llm/sftlab/out_data/sftlab-experiments/0923twitter/1-tanuki8b_lora_twitter-zero1/checkpoint-7851\"\n",
    "adapter_id=\"kanhatakeyama/Tanuki-8B-dpo-v1.0-twitter-lora-r128-exp1\"\n",
    "model=transformers.AutoModelForCausalLM.from_pretrained(model_id,trust_remote_code=True)\n",
    "tokenizer=transformers.AutoTokenizer.from_pretrained(model_id,)"
   ]
  },
  {
   "cell_type": "code",
   "execution_count": 3,
   "metadata": {},
   "outputs": [],
   "source": [
    "model.load_adapter(adapter_id)"
   ]
  },
  {
   "cell_type": "code",
   "execution_count": 4,
   "metadata": {},
   "outputs": [
    {
     "name": "stderr",
     "output_type": "stream",
     "text": [
      "Hardware accelerator e.g. GPU is available in the environment, but no `device` argument is passed to the `Pipeline` object. Model will be on CPU.\n",
      "/home/setup/miniconda3/envs/sft/lib/python3.11/site-packages/transformers/generation/configuration_utils.py:567: UserWarning: `do_sample` is set to `False`. However, `temperature` is set to `0.7` -- this flag is only used in sample-based generation modes. You should set `do_sample=True` or unset `temperature`.\n",
      "  warnings.warn(\n"
     ]
    },
    {
     "name": "stdout",
     "output_type": "stream",
     "text": [
      "うん!元気だよ〜😊あなたはどう?\n"
     ]
    }
   ],
   "source": [
    "pipe=transformers.pipeline(\"text-generation\",model=model,tokenizer=tokenizer)\n",
    "\n",
    "messages=[\n",
    "{\"role\":\"user\",\"content\":\"元気???\"},\n",
    "]\n",
    "prompt = pipe.tokenizer.apply_chat_template(\n",
    "    messages, tokenize=False, add_generation_prompt=True)\n",
    "\n",
    "outputs = pipe(prompt, max_new_tokens=1024,\n",
    "                temperature=0.7,\n",
    "                repetition_penalty=1.1,\n",
    "                )\n",
    "out_text = outputs[0][\"generated_text\"].lstrip(prompt)\n",
    "print(out_text)"
   ]
  },
  {
   "cell_type": "code",
   "execution_count": 4,
   "metadata": {},
   "outputs": [
    {
     "name": "stdout",
     "output_type": "stream",
     "text": [
      "[2024-09-26 13:44:14,228] [INFO] [real_accelerator.py:203:get_accelerator] Setting ds_accelerator to cuda (auto detect)\n"
     ]
    },
    {
     "name": "stderr",
     "output_type": "stream",
     "text": [
      "/home/setup/miniconda3/envs/sft/compiler_compat/ld: warning: libpthread.so.0, needed by /usr/local/cuda-12.3/lib64/libcufile.so, not found (try using -rpath or -rpath-link)\n",
      "/home/setup/miniconda3/envs/sft/compiler_compat/ld: warning: libstdc++.so.6, needed by /usr/local/cuda-12.3/lib64/libcufile.so, not found (try using -rpath or -rpath-link)\n",
      "/home/setup/miniconda3/envs/sft/compiler_compat/ld: warning: libm.so.6, needed by /usr/local/cuda-12.3/lib64/libcufile.so, not found (try using -rpath or -rpath-link)\n",
      "/home/setup/miniconda3/envs/sft/compiler_compat/ld: /usr/local/cuda-12.3/lib64/libcufile.so: undefined reference to `std::runtime_error::~runtime_error()@GLIBCXX_3.4'\n",
      "/home/setup/miniconda3/envs/sft/compiler_compat/ld: /usr/local/cuda-12.3/lib64/libcufile.so: undefined reference to `__gxx_personality_v0@CXXABI_1.3'\n",
      "/home/setup/miniconda3/envs/sft/compiler_compat/ld: /usr/local/cuda-12.3/lib64/libcufile.so: undefined reference to `std::ostream::tellp()@GLIBCXX_3.4'\n",
      "/home/setup/miniconda3/envs/sft/compiler_compat/ld: /usr/local/cuda-12.3/lib64/libcufile.so: undefined reference to `std::chrono::_V2::steady_clock::now()@GLIBCXX_3.4.19'\n",
      "/home/setup/miniconda3/envs/sft/compiler_compat/ld: /usr/local/cuda-12.3/lib64/libcufile.so: undefined reference to `std::string::_M_replace_aux(unsigned long, unsigned long, unsigned long, char)@GLIBCXX_3.4'\n",
      "/home/setup/miniconda3/envs/sft/compiler_compat/ld: /usr/local/cuda-12.3/lib64/libcufile.so: undefined reference to `typeinfo for bool@CXXABI_1.3'\n",
      "/home/setup/miniconda3/envs/sft/compiler_compat/ld: /usr/local/cuda-12.3/lib64/libcufile.so: undefined reference to `std::__throw_logic_error(char const*)@GLIBCXX_3.4'\n",
      "/home/setup/miniconda3/envs/sft/compiler_compat/ld: /usr/local/cuda-12.3/lib64/libcufile.so: undefined reference to `VTT for std::basic_ostringstream<char, std::char_traits<char>, std::allocator<char> >@GLIBCXX_3.4'\n",
      "/home/setup/miniconda3/envs/sft/compiler_compat/ld: /usr/local/cuda-12.3/lib64/libcufile.so: undefined reference to `vtable for std::logic_error@GLIBCXX_3.4'\n",
      "/home/setup/miniconda3/envs/sft/compiler_compat/ld: /usr/local/cuda-12.3/lib64/libcufile.so: undefined reference to `std::locale::~locale()@GLIBCXX_3.4'\n",
      "/home/setup/miniconda3/envs/sft/compiler_compat/ld: /usr/local/cuda-12.3/lib64/libcufile.so: undefined reference to `std::basic_string<char, std::char_traits<char>, std::allocator<char> >::basic_string(std::string const&, unsigned long, unsigned long)@GLIBCXX_3.4'\n",
      "/home/setup/miniconda3/envs/sft/compiler_compat/ld: /usr/local/cuda-12.3/lib64/libcufile.so: undefined reference to `__cxa_end_catch@CXXABI_1.3'\n",
      "/home/setup/miniconda3/envs/sft/compiler_compat/ld: /usr/local/cuda-12.3/lib64/libcufile.so: undefined reference to `VTT for std::basic_ofstream<char, std::char_traits<char> >@GLIBCXX_3.4'\n",
      "/home/setup/miniconda3/envs/sft/compiler_compat/ld: /usr/local/cuda-12.3/lib64/libcufile.so: undefined reference to `std::logic_error::~logic_error()@GLIBCXX_3.4'\n",
      "/home/setup/miniconda3/envs/sft/compiler_compat/ld: /usr/local/cuda-12.3/lib64/libcufile.so: undefined reference to `vtable for __cxxabiv1::__si_class_type_info@CXXABI_1.3'\n",
      "/home/setup/miniconda3/envs/sft/compiler_compat/ld: /usr/local/cuda-12.3/lib64/libcufile.so: undefined reference to `std::basic_ios<char, std::char_traits<char> >::_M_cache_locale(std::locale const&)@GLIBCXX_3.4'\n",
      "/home/setup/miniconda3/envs/sft/compiler_compat/ld: /usr/local/cuda-12.3/lib64/libcufile.so: undefined reference to `VTT for std::basic_stringstream<char, std::char_traits<char>, std::allocator<char> >@GLIBCXX_3.4'\n",
      "/home/setup/miniconda3/envs/sft/compiler_compat/ld: /usr/local/cuda-12.3/lib64/libcufile.so: undefined reference to `operator new[](unsigned long)@GLIBCXX_3.4'\n",
      "/home/setup/miniconda3/envs/sft/compiler_compat/ld: /usr/local/cuda-12.3/lib64/libcufile.so: undefined reference to `std::string::_M_leak_hard()@GLIBCXX_3.4'\n",
      "/home/setup/miniconda3/envs/sft/compiler_compat/ld: /usr/local/cuda-12.3/lib64/libcufile.so: undefined reference to `vtable for std::basic_ifstream<char, std::char_traits<char> >@GLIBCXX_3.4'\n",
      "/home/setup/miniconda3/envs/sft/compiler_compat/ld: /usr/local/cuda-12.3/lib64/libcufile.so: undefined reference to `std::basic_streambuf<wchar_t, std::char_traits<wchar_t> >::basic_streambuf(std::basic_streambuf<wchar_t, std::char_traits<wchar_t> > const&)@GLIBCXX_3.4'\n",
      "/home/setup/miniconda3/envs/sft/compiler_compat/ld: /usr/local/cuda-12.3/lib64/libcufile.so: undefined reference to `std::string::append(char const*, unsigned long)@GLIBCXX_3.4'\n",
      "/home/setup/miniconda3/envs/sft/compiler_compat/ld: /usr/local/cuda-12.3/lib64/libcufile.so: undefined reference to `std::basic_string<char, std::char_traits<char>, std::allocator<char> >::basic_string(std::string const&)@GLIBCXX_3.4'\n",
      "/home/setup/miniconda3/envs/sft/compiler_compat/ld: /usr/local/cuda-12.3/lib64/libcufile.so: undefined reference to `typeinfo for unsigned short@CXXABI_1.3'\n",
      "/home/setup/miniconda3/envs/sft/compiler_compat/ld: /usr/local/cuda-12.3/lib64/libcufile.so: undefined reference to `std::string::resize(unsigned long, char)@GLIBCXX_3.4'\n",
      "/home/setup/miniconda3/envs/sft/compiler_compat/ld: /usr/local/cuda-12.3/lib64/libcufile.so: undefined reference to `typeinfo for char const*@CXXABI_1.3'\n",
      "/home/setup/miniconda3/envs/sft/compiler_compat/ld: /usr/local/cuda-12.3/lib64/libcufile.so: undefined reference to `std::ctype<char>::_M_widen_init() const@GLIBCXX_3.4.11'\n",
      "/home/setup/miniconda3/envs/sft/compiler_compat/ld: /usr/local/cuda-12.3/lib64/libcufile.so: undefined reference to `std::__throw_invalid_argument(char const*)@GLIBCXX_3.4'\n",
      "/home/setup/miniconda3/envs/sft/compiler_compat/ld: /usr/local/cuda-12.3/lib64/libcufile.so: undefined reference to `std::locale::operator=(std::locale const&)@GLIBCXX_3.4'\n",
      "/home/setup/miniconda3/envs/sft/compiler_compat/ld: /usr/local/cuda-12.3/lib64/libcufile.so: undefined reference to `std::basic_ios<wchar_t, std::char_traits<wchar_t> >::_M_cache_locale(std::locale const&)@GLIBCXX_3.4'\n",
      "/home/setup/miniconda3/envs/sft/compiler_compat/ld: /usr/local/cuda-12.3/lib64/libcufile.so: undefined reference to `std::_Rb_tree_decrement(std::_Rb_tree_node_base const*)@GLIBCXX_3.4'\n",
      "/home/setup/miniconda3/envs/sft/compiler_compat/ld: /usr/local/cuda-12.3/lib64/libcufile.so: undefined reference to `__cxa_free_exception@CXXABI_1.3'\n",
      "/home/setup/miniconda3/envs/sft/compiler_compat/ld: /usr/local/cuda-12.3/lib64/libcufile.so: undefined reference to `std::condition_variable::notify_one()@GLIBCXX_3.4.11'\n",
      "/home/setup/miniconda3/envs/sft/compiler_compat/ld: /usr/local/cuda-12.3/lib64/libcufile.so: undefined reference to `std::ios_base::Init::~Init()@GLIBCXX_3.4'\n",
      "/home/setup/miniconda3/envs/sft/compiler_compat/ld: /usr/local/cuda-12.3/lib64/libcufile.so: undefined reference to `std::basic_string<char, std::char_traits<char>, std::allocator<char> >::~basic_string()@GLIBCXX_3.4'\n",
      "/home/setup/miniconda3/envs/sft/compiler_compat/ld: /usr/local/cuda-12.3/lib64/libcufile.so: undefined reference to `__cxa_pure_virtual@CXXABI_1.3'\n",
      "/home/setup/miniconda3/envs/sft/compiler_compat/ld: /usr/local/cuda-12.3/lib64/libcufile.so: undefined reference to `std::ostream::flush()@GLIBCXX_3.4'\n",
      "/home/setup/miniconda3/envs/sft/compiler_compat/ld: /usr/local/cuda-12.3/lib64/libcufile.so: undefined reference to `vtable for __cxxabiv1::__class_type_info@CXXABI_1.3'\n",
      "/home/setup/miniconda3/envs/sft/compiler_compat/ld: /usr/local/cuda-12.3/lib64/libcufile.so: undefined reference to `__cxa_rethrow@CXXABI_1.3'\n",
      "/home/setup/miniconda3/envs/sft/compiler_compat/ld: /usr/local/cuda-12.3/lib64/libcufile.so: undefined reference to `vtable for std::basic_stringbuf<char, std::char_traits<char>, std::allocator<char> >@GLIBCXX_3.4'\n",
      "/home/setup/miniconda3/envs/sft/compiler_compat/ld: /usr/local/cuda-12.3/lib64/libcufile.so: undefined reference to `std::basic_fstream<char, std::char_traits<char> >::~basic_fstream()@GLIBCXX_3.4'\n",
      "/home/setup/miniconda3/envs/sft/compiler_compat/ld: /usr/local/cuda-12.3/lib64/libcufile.so: undefined reference to `std::string::compare(char const*) const@GLIBCXX_3.4'\n",
      "/home/setup/miniconda3/envs/sft/compiler_compat/ld: /usr/local/cuda-12.3/lib64/libcufile.so: undefined reference to `VTT for std::basic_ostringstream<wchar_t, std::char_traits<wchar_t>, std::allocator<wchar_t> >@GLIBCXX_3.4'\n",
      "/home/setup/miniconda3/envs/sft/compiler_compat/ld: /usr/local/cuda-12.3/lib64/libcufile.so: undefined reference to `std::locale::locale()@GLIBCXX_3.4'\n",
      "/home/setup/miniconda3/envs/sft/compiler_compat/ld: /usr/local/cuda-12.3/lib64/libcufile.so: undefined reference to `std::chrono::_V2::system_clock::now()@GLIBCXX_3.4.19'\n",
      "/home/setup/miniconda3/envs/sft/compiler_compat/ld: /usr/local/cuda-12.3/lib64/libcufile.so: undefined reference to `VTT for std::basic_ifstream<char, std::char_traits<char> >@GLIBCXX_3.4'\n",
      "/home/setup/miniconda3/envs/sft/compiler_compat/ld: /usr/local/cuda-12.3/lib64/libcufile.so: undefined reference to `std::_Hash_bytes(void const*, unsigned long, unsigned long)@CXXABI_1.3.5'\n",
      "/home/setup/miniconda3/envs/sft/compiler_compat/ld: /usr/local/cuda-12.3/lib64/libcufile.so: undefined reference to `std::ostream& std::ostream::_M_insert<long long>(long long)@GLIBCXX_3.4.9'\n",
      "/home/setup/miniconda3/envs/sft/compiler_compat/ld: /usr/local/cuda-12.3/lib64/libcufile.so: undefined reference to `typeinfo for char*@CXXABI_1.3'\n",
      "/home/setup/miniconda3/envs/sft/compiler_compat/ld: /usr/local/cuda-12.3/lib64/libcufile.so: undefined reference to `std::__detail::_Prime_rehash_policy::_M_need_rehash(unsigned long, unsigned long, unsigned long) const@GLIBCXX_3.4.18'\n",
      "/home/setup/miniconda3/envs/sft/compiler_compat/ld: /usr/local/cuda-12.3/lib64/libcufile.so: undefined reference to `vtable for std::out_of_range@GLIBCXX_3.4'\n",
      "/home/setup/miniconda3/envs/sft/compiler_compat/ld: /usr/local/cuda-12.3/lib64/libcufile.so: undefined reference to `std::ostream& std::ostream::_M_insert<unsigned long>(unsigned long)@GLIBCXX_3.4.9'\n",
      "/home/setup/miniconda3/envs/sft/compiler_compat/ld: /usr/local/cuda-12.3/lib64/libcufile.so: undefined reference to `std::_Rb_tree_increment(std::_Rb_tree_node_base const*)@GLIBCXX_3.4'\n",
      "/home/setup/miniconda3/envs/sft/compiler_compat/ld: /usr/local/cuda-12.3/lib64/libcufile.so: undefined reference to `std::ios_base::~ios_base()@GLIBCXX_3.4'\n",
      "/home/setup/miniconda3/envs/sft/compiler_compat/ld: /usr/local/cuda-12.3/lib64/libcufile.so: undefined reference to `std::range_error::~range_error()@GLIBCXX_3.4'\n",
      "/home/setup/miniconda3/envs/sft/compiler_compat/ld: /usr/local/cuda-12.3/lib64/libcufile.so: undefined reference to `std::__basic_file<char>::~__basic_file()@GLIBCXX_3.4'\n",
      "/home/setup/miniconda3/envs/sft/compiler_compat/ld: /usr/local/cuda-12.3/lib64/libcufile.so: undefined reference to `__cxa_guard_acquire@CXXABI_1.3'\n",
      "/home/setup/miniconda3/envs/sft/compiler_compat/ld: /usr/local/cuda-12.3/lib64/libcufile.so: undefined reference to `std::ostream& std::ostream::_M_insert<bool>(bool)@GLIBCXX_3.4.9'\n",
      "/home/setup/miniconda3/envs/sft/compiler_compat/ld: /usr/local/cuda-12.3/lib64/libcufile.so: undefined reference to `vtable for std::overflow_error@GLIBCXX_3.4'\n",
      "/home/setup/miniconda3/envs/sft/compiler_compat/ld: /usr/local/cuda-12.3/lib64/libcufile.so: undefined reference to `VTT for std::basic_fstream<char, std::char_traits<char> >@GLIBCXX_3.4'\n",
      "/home/setup/miniconda3/envs/sft/compiler_compat/ld: /usr/local/cuda-12.3/lib64/libcufile.so: undefined reference to `vtable for std::range_error@GLIBCXX_3.4'\n",
      "/home/setup/miniconda3/envs/sft/compiler_compat/ld: /usr/local/cuda-12.3/lib64/libcufile.so: undefined reference to `vtable for std::basic_ios<char, std::char_traits<char> >@GLIBCXX_3.4'\n",
      "/home/setup/miniconda3/envs/sft/compiler_compat/ld: /usr/local/cuda-12.3/lib64/libcufile.so: undefined reference to `vtable for std::basic_filebuf<char, std::char_traits<char> >@GLIBCXX_3.4'\n",
      "/home/setup/miniconda3/envs/sft/compiler_compat/ld: /usr/local/cuda-12.3/lib64/libcufile.so: undefined reference to `operator delete[](void*)@GLIBCXX_3.4'\n",
      "/home/setup/miniconda3/envs/sft/compiler_compat/ld: /usr/local/cuda-12.3/lib64/libcufile.so: undefined reference to `vtable for std::basic_stringstream<char, std::char_traits<char>, std::allocator<char> >@GLIBCXX_3.4'\n",
      "/home/setup/miniconda3/envs/sft/compiler_compat/ld: /usr/local/cuda-12.3/lib64/libcufile.so: undefined reference to `std::basic_string<char, std::char_traits<char>, std::allocator<char> >::basic_string(unsigned long, char, std::allocator<char> const&)@GLIBCXX_3.4'\n",
      "/home/setup/miniconda3/envs/sft/compiler_compat/ld: /usr/local/cuda-12.3/lib64/libcufile.so: undefined reference to `std::__detail::_List_node_base::_M_transfer(std::__detail::_List_node_base*, std::__detail::_List_node_base*)@GLIBCXX_3.4.15'\n",
      "/home/setup/miniconda3/envs/sft/compiler_compat/ld: /usr/local/cuda-12.3/lib64/libcufile.so: undefined reference to `std::string::replace(unsigned long, unsigned long, char const*, unsigned long)@GLIBCXX_3.4'\n",
      "/home/setup/miniconda3/envs/sft/compiler_compat/ld: /usr/local/cuda-12.3/lib64/libcufile.so: undefined reference to `typeinfo for std::exception@GLIBCXX_3.4'\n",
      "/home/setup/miniconda3/envs/sft/compiler_compat/ld: /usr/local/cuda-12.3/lib64/libcufile.so: undefined reference to `std::basic_string<wchar_t, std::char_traits<wchar_t>, std::allocator<wchar_t> >::_Rep::_M_destroy(std::allocator<wchar_t> const&)@GLIBCXX_3.4'\n",
      "/home/setup/miniconda3/envs/sft/compiler_compat/ld: /usr/local/cuda-12.3/lib64/libcufile.so: undefined reference to `std::istream& std::istream::_M_extract<double>(double&)@GLIBCXX_3.4.9'\n",
      "/home/setup/miniconda3/envs/sft/compiler_compat/ld: /usr/local/cuda-12.3/lib64/libcufile.so: undefined reference to `std::basic_filebuf<char, std::char_traits<char> >::close()@GLIBCXX_3.4'\n",
      "/home/setup/miniconda3/envs/sft/compiler_compat/ld: /usr/local/cuda-12.3/lib64/libcufile.so: undefined reference to `vtable for std::basic_fstream<char, std::char_traits<char> >@GLIBCXX_3.4'\n",
      "/home/setup/miniconda3/envs/sft/compiler_compat/ld: /usr/local/cuda-12.3/lib64/libcufile.so: undefined reference to `std::basic_ifstream<char, std::char_traits<char> >::basic_ifstream(char const*, std::_Ios_Openmode)@GLIBCXX_3.4'\n",
      "/home/setup/miniconda3/envs/sft/compiler_compat/ld: /usr/local/cuda-12.3/lib64/libcufile.so: undefined reference to `std::string::append(std::string const&)@GLIBCXX_3.4'\n",
      "/home/setup/miniconda3/envs/sft/compiler_compat/ld: /usr/local/cuda-12.3/lib64/libcufile.so: undefined reference to `operator new(unsigned long)@GLIBCXX_3.4'\n",
      "/home/setup/miniconda3/envs/sft/compiler_compat/ld: /usr/local/cuda-12.3/lib64/libcufile.so: undefined reference to `VTT for std::basic_istringstream<wchar_t, std::char_traits<wchar_t>, std::allocator<wchar_t> >@GLIBCXX_3.4'\n",
      "/home/setup/miniconda3/envs/sft/compiler_compat/ld: /usr/local/cuda-12.3/lib64/libcufile.so: undefined reference to `typeinfo for unsigned int@CXXABI_1.3'\n",
      "/home/setup/miniconda3/envs/sft/compiler_compat/ld: /usr/local/cuda-12.3/lib64/libcufile.so: undefined reference to `std::string::append(char const*)@GLIBCXX_3.4'\n",
      "/home/setup/miniconda3/envs/sft/compiler_compat/ld: /usr/local/cuda-12.3/lib64/libcufile.so: undefined reference to `vtable for std::domain_error@GLIBCXX_3.4'\n",
      "/home/setup/miniconda3/envs/sft/compiler_compat/ld: /usr/local/cuda-12.3/lib64/libcufile.so: undefined reference to `std::string::find(char, unsigned long) const@GLIBCXX_3.4'\n",
      "/home/setup/miniconda3/envs/sft/compiler_compat/ld: /usr/local/cuda-12.3/lib64/libcufile.so: undefined reference to `std::ostream::put(char)@GLIBCXX_3.4'\n",
      "/home/setup/miniconda3/envs/sft/compiler_compat/ld: /usr/local/cuda-12.3/lib64/libcufile.so: undefined reference to `typeinfo for int@CXXABI_1.3'\n",
      "/home/setup/miniconda3/envs/sft/compiler_compat/ld: /usr/local/cuda-12.3/lib64/libcufile.so: undefined reference to `std::__throw_bad_alloc()@GLIBCXX_3.4'\n",
      "/home/setup/miniconda3/envs/sft/compiler_compat/ld: /usr/local/cuda-12.3/lib64/libcufile.so: undefined reference to `__cxa_thread_atexit@CXXABI_1.3.7'\n",
      "/home/setup/miniconda3/envs/sft/compiler_compat/ld: /usr/local/cuda-12.3/lib64/libcufile.so: undefined reference to `typeinfo for unsigned int*@CXXABI_1.3'\n",
      "/home/setup/miniconda3/envs/sft/compiler_compat/ld: /usr/local/cuda-12.3/lib64/libcufile.so: undefined reference to `std::_Rb_tree_increment(std::_Rb_tree_node_base*)@GLIBCXX_3.4'\n",
      "/home/setup/miniconda3/envs/sft/compiler_compat/ld: /usr/local/cuda-12.3/lib64/libcufile.so: undefined reference to `std::basic_ifstream<char, std::char_traits<char> >::~basic_ifstream()@GLIBCXX_3.4'\n",
      "/home/setup/miniconda3/envs/sft/compiler_compat/ld: /usr/local/cuda-12.3/lib64/libcufile.so: undefined reference to `std::ios_base::Init::Init()@GLIBCXX_3.4'\n",
      "/home/setup/miniconda3/envs/sft/compiler_compat/ld: /usr/local/cuda-12.3/lib64/libcufile.so: undefined reference to `std::condition_variable::condition_variable()@GLIBCXX_3.4.11'\n",
      "/home/setup/miniconda3/envs/sft/compiler_compat/ld: /usr/local/cuda-12.3/lib64/libcufile.so: undefined reference to `std::basic_filebuf<char, std::char_traits<char> >::basic_filebuf()@GLIBCXX_3.4'\n",
      "/home/setup/miniconda3/envs/sft/compiler_compat/ld: /usr/local/cuda-12.3/lib64/libcufile.so: undefined reference to `VTT for std::basic_istringstream<char, std::char_traits<char>, std::allocator<char> >@GLIBCXX_3.4'\n",
      "/home/setup/miniconda3/envs/sft/compiler_compat/ld: /usr/local/cuda-12.3/lib64/libcufile.so: undefined reference to `std::domain_error::~domain_error()@GLIBCXX_3.4'\n",
      "/home/setup/miniconda3/envs/sft/compiler_compat/ld: /usr/local/cuda-12.3/lib64/libcufile.so: undefined reference to `std::cerr@GLIBCXX_3.4'\n",
      "/home/setup/miniconda3/envs/sft/compiler_compat/ld: /usr/local/cuda-12.3/lib64/libcufile.so: undefined reference to `std::string::find(char const*, unsigned long, unsigned long) const@GLIBCXX_3.4'\n",
      "/home/setup/miniconda3/envs/sft/compiler_compat/ld: /usr/local/cuda-12.3/lib64/libcufile.so: undefined reference to `vtable for std::basic_istringstream<char, std::char_traits<char>, std::allocator<char> >@GLIBCXX_3.4'\n",
      "/home/setup/miniconda3/envs/sft/compiler_compat/ld: /usr/local/cuda-12.3/lib64/libcufile.so: undefined reference to `std::basic_string<char, std::char_traits<char>, std::allocator<char> >::basic_string(std::allocator<char> const&)@GLIBCXX_3.4'\n",
      "/home/setup/miniconda3/envs/sft/compiler_compat/ld: /usr/local/cuda-12.3/lib64/libcufile.so: undefined reference to `std::basic_stringbuf<char, std::char_traits<char>, std::allocator<char> >::str() const@GLIBCXX_3.4'\n",
      "/home/setup/miniconda3/envs/sft/compiler_compat/ld: /usr/local/cuda-12.3/lib64/libcufile.so: undefined reference to `vtable for std::invalid_argument@GLIBCXX_3.4'\n",
      "/home/setup/miniconda3/envs/sft/compiler_compat/ld: /usr/local/cuda-12.3/lib64/libcufile.so: undefined reference to `typeinfo for void*@CXXABI_1.3'\n",
      "/home/setup/miniconda3/envs/sft/compiler_compat/ld: /usr/local/cuda-12.3/lib64/libcufile.so: undefined reference to `std::string::assign(std::string const&)@GLIBCXX_3.4'\n",
      "/home/setup/miniconda3/envs/sft/compiler_compat/ld: /usr/local/cuda-12.3/lib64/libcufile.so: undefined reference to `std::basic_ostringstream<char, std::char_traits<char>, std::allocator<char> >::~basic_ostringstream()@GLIBCXX_3.4'\n",
      "/home/setup/miniconda3/envs/sft/compiler_compat/ld: /usr/local/cuda-12.3/lib64/libcufile.so: undefined reference to `std::_Rb_tree_rebalance_for_erase(std::_Rb_tree_node_base*, std::_Rb_tree_node_base&)@GLIBCXX_3.4'\n",
      "/home/setup/miniconda3/envs/sft/compiler_compat/ld: /usr/local/cuda-12.3/lib64/libcufile.so: undefined reference to `typeinfo for unsigned long@CXXABI_1.3'\n",
      "/home/setup/miniconda3/envs/sft/compiler_compat/ld: /usr/local/cuda-12.3/lib64/libcufile.so: undefined reference to `std::__detail::_List_node_base::_M_hook(std::__detail::_List_node_base*)@GLIBCXX_3.4.15'\n",
      "/home/setup/miniconda3/envs/sft/compiler_compat/ld: /usr/local/cuda-12.3/lib64/libcufile.so: undefined reference to `std::__detail::_List_node_base::_M_unhook()@GLIBCXX_3.4.15'\n",
      "/home/setup/miniconda3/envs/sft/compiler_compat/ld: /usr/local/cuda-12.3/lib64/libcufile.so: undefined reference to `vtable for std::basic_ostringstream<wchar_t, std::char_traits<wchar_t>, std::allocator<wchar_t> >@GLIBCXX_3.4'\n",
      "/home/setup/miniconda3/envs/sft/compiler_compat/ld: /usr/local/cuda-12.3/lib64/libcufile.so: undefined reference to `std::basic_stringbuf<char, std::char_traits<char>, std::allocator<char> >::_M_sync(char*, unsigned long, unsigned long)@GLIBCXX_3.4'\n",
      "/home/setup/miniconda3/envs/sft/compiler_compat/ld: /usr/local/cuda-12.3/lib64/libcufile.so: undefined reference to `std::basic_iostream<char, std::char_traits<char> >::~basic_iostream()@GLIBCXX_3.4'\n",
      "/home/setup/miniconda3/envs/sft/compiler_compat/ld: /usr/local/cuda-12.3/lib64/libcufile.so: undefined reference to `std::locale::locale(std::locale const&)@GLIBCXX_3.4'\n",
      "/home/setup/miniconda3/envs/sft/compiler_compat/ld: /usr/local/cuda-12.3/lib64/libcufile.so: undefined reference to `vtable for std::basic_istringstream<wchar_t, std::char_traits<wchar_t>, std::allocator<wchar_t> >@GLIBCXX_3.4'\n",
      "/home/setup/miniconda3/envs/sft/compiler_compat/ld: /usr/local/cuda-12.3/lib64/libcufile.so: undefined reference to `log2f@GLIBC_2.2.5'\n",
      "/home/setup/miniconda3/envs/sft/compiler_compat/ld: /usr/local/cuda-12.3/lib64/libcufile.so: undefined reference to `std::ostream::operator<<(std::basic_streambuf<char, std::char_traits<char> >*)@GLIBCXX_3.4'\n",
      "/home/setup/miniconda3/envs/sft/compiler_compat/ld: /usr/local/cuda-12.3/lib64/libcufile.so: undefined reference to `vtable for std::basic_streambuf<wchar_t, std::char_traits<wchar_t> >@GLIBCXX_3.4'\n",
      "/home/setup/miniconda3/envs/sft/compiler_compat/ld: /usr/local/cuda-12.3/lib64/libcufile.so: undefined reference to `std::exception::~exception()@GLIBCXX_3.4'\n",
      "/home/setup/miniconda3/envs/sft/compiler_compat/ld: /usr/local/cuda-12.3/lib64/libcufile.so: undefined reference to `std::string::_Rep::_S_create(unsigned long, unsigned long, std::allocator<char> const&)@GLIBCXX_3.4'\n",
      "/home/setup/miniconda3/envs/sft/compiler_compat/ld: /usr/local/cuda-12.3/lib64/libcufile.so: undefined reference to `std::__basic_file<char>::is_open() const@GLIBCXX_3.4'\n",
      "/home/setup/miniconda3/envs/sft/compiler_compat/ld: /usr/local/cuda-12.3/lib64/libcufile.so: undefined reference to `std::basic_istringstream<char, std::char_traits<char>, std::allocator<char> >::~basic_istringstream()@GLIBCXX_3.4'\n",
      "/home/setup/miniconda3/envs/sft/compiler_compat/ld: /usr/local/cuda-12.3/lib64/libcufile.so: undefined reference to `std::string::swap(std::string&)@GLIBCXX_3.4'\n",
      "/home/setup/miniconda3/envs/sft/compiler_compat/ld: /usr/local/cuda-12.3/lib64/libcufile.so: undefined reference to `vtable for std::basic_ostringstream<char, std::char_traits<char>, std::allocator<char> >@GLIBCXX_3.4'\n",
      "/home/setup/miniconda3/envs/sft/compiler_compat/ld: /usr/local/cuda-12.3/lib64/libcufile.so: undefined reference to `std::basic_streambuf<char, std::char_traits<char> >::basic_streambuf(std::basic_streambuf<char, std::char_traits<char> > const&)@GLIBCXX_3.4'\n",
      "/home/setup/miniconda3/envs/sft/compiler_compat/ld: /usr/local/cuda-12.3/lib64/libcufile.so: undefined reference to `std::basic_ios<char, std::char_traits<char> >::init(std::basic_streambuf<char, std::char_traits<char> >*)@GLIBCXX_3.4'\n",
      "/home/setup/miniconda3/envs/sft/compiler_compat/ld: /usr/local/cuda-12.3/lib64/libcufile.so: undefined reference to `std::__throw_bad_cast()@GLIBCXX_3.4'\n",
      "/home/setup/miniconda3/envs/sft/compiler_compat/ld: /usr/local/cuda-12.3/lib64/libcufile.so: undefined reference to `std::basic_ios<char, std::char_traits<char> >::clear(std::_Ios_Iostate)@GLIBCXX_3.4'\n",
      "/home/setup/miniconda3/envs/sft/compiler_compat/ld: /usr/local/cuda-12.3/lib64/libcufile.so: undefined reference to `std::basic_streambuf<wchar_t, std::char_traits<wchar_t> >::operator=(std::basic_streambuf<wchar_t, std::char_traits<wchar_t> > const&)@GLIBCXX_3.4'\n",
      "/home/setup/miniconda3/envs/sft/compiler_compat/ld: /usr/local/cuda-12.3/lib64/libcufile.so: undefined reference to `typeinfo for long*@CXXABI_1.3'\n",
      "/home/setup/miniconda3/envs/sft/compiler_compat/ld: /usr/local/cuda-12.3/lib64/libcufile.so: undefined reference to `operator delete(void*)@GLIBCXX_3.4'\n",
      "/home/setup/miniconda3/envs/sft/compiler_compat/ld: /usr/local/cuda-12.3/lib64/libcufile.so: undefined reference to `std::ostream::operator<<(int)@GLIBCXX_3.4'\n",
      "/home/setup/miniconda3/envs/sft/compiler_compat/ld: /usr/local/cuda-12.3/lib64/libcufile.so: undefined reference to `std::string::_Rep::_S_empty_rep_storage@GLIBCXX_3.4'\n",
      "/home/setup/miniconda3/envs/sft/compiler_compat/ld: /usr/local/cuda-12.3/lib64/libcufile.so: undefined reference to `std::string::_Rep::_M_destroy(std::allocator<char> const&)@GLIBCXX_3.4'\n",
      "/home/setup/miniconda3/envs/sft/compiler_compat/ld: /usr/local/cuda-12.3/lib64/libcufile.so: undefined reference to `std::basic_iostream<wchar_t, std::char_traits<wchar_t> >::~basic_iostream()@GLIBCXX_3.4'\n",
      "/home/setup/miniconda3/envs/sft/compiler_compat/ld: /usr/local/cuda-12.3/lib64/libcufile.so: undefined reference to `vtable for std::runtime_error@GLIBCXX_3.4'\n",
      "/home/setup/miniconda3/envs/sft/compiler_compat/ld: /usr/local/cuda-12.3/lib64/libcufile.so: undefined reference to `vtable for std::basic_ofstream<char, std::char_traits<char> >@GLIBCXX_3.4'\n",
      "/home/setup/miniconda3/envs/sft/compiler_compat/ld: /usr/local/cuda-12.3/lib64/libcufile.so: undefined reference to `std::_Rb_tree_insert_and_rebalance(bool, std::_Rb_tree_node_base*, std::_Rb_tree_node_base*, std::_Rb_tree_node_base&)@GLIBCXX_3.4'\n",
      "/home/setup/miniconda3/envs/sft/compiler_compat/ld: /usr/local/cuda-12.3/lib64/libcufile.so: undefined reference to `std::basic_stringstream<char, std::char_traits<char>, std::allocator<char> >::~basic_stringstream()@GLIBCXX_3.4'\n",
      "/home/setup/miniconda3/envs/sft/compiler_compat/ld: /usr/local/cuda-12.3/lib64/libcufile.so: undefined reference to `VTT for std::basic_stringstream<wchar_t, std::char_traits<wchar_t>, std::allocator<wchar_t> >@GLIBCXX_3.4'\n",
      "/home/setup/miniconda3/envs/sft/compiler_compat/ld: /usr/local/cuda-12.3/lib64/libcufile.so: undefined reference to `std::ostream& std::ostream::_M_insert<long>(long)@GLIBCXX_3.4.9'\n",
      "/home/setup/miniconda3/envs/sft/compiler_compat/ld: /usr/local/cuda-12.3/lib64/libcufile.so: undefined reference to `std::istream::get()@GLIBCXX_3.4'\n",
      "/home/setup/miniconda3/envs/sft/compiler_compat/ld: /usr/local/cuda-12.3/lib64/libcufile.so: undefined reference to `typeinfo for unsigned long long@CXXABI_1.3'\n",
      "/home/setup/miniconda3/envs/sft/compiler_compat/ld: /usr/local/cuda-12.3/lib64/libcufile.so: undefined reference to `std::basic_ostream<char, std::char_traits<char> >& std::operator<< <std::char_traits<char> >(std::basic_ostream<char, std::char_traits<char> >&, char const*)@GLIBCXX_3.4'\n",
      "/home/setup/miniconda3/envs/sft/compiler_compat/ld: /usr/local/cuda-12.3/lib64/libcufile.so: undefined reference to `std::out_of_range::~out_of_range()@GLIBCXX_3.4'\n",
      "/home/setup/miniconda3/envs/sft/compiler_compat/ld: /usr/local/cuda-12.3/lib64/libcufile.so: undefined reference to `std::length_error::~length_error()@GLIBCXX_3.4'\n",
      "/home/setup/miniconda3/envs/sft/compiler_compat/ld: /usr/local/cuda-12.3/lib64/libcufile.so: undefined reference to `std::basic_ostream<char, std::char_traits<char> >& std::__ostream_insert<char, std::char_traits<char> >(std::basic_ostream<char, std::char_traits<char> >&, char const*, long)@GLIBCXX_3.4.9'\n",
      "/home/setup/miniconda3/envs/sft/compiler_compat/ld: /usr/local/cuda-12.3/lib64/libcufile.so: undefined reference to `std::invalid_argument::~invalid_argument()@GLIBCXX_3.4'\n",
      "/home/setup/miniconda3/envs/sft/compiler_compat/ld: /usr/local/cuda-12.3/lib64/libcufile.so: undefined reference to `std::basic_string<wchar_t, std::char_traits<wchar_t>, std::allocator<wchar_t> >::swap(std::basic_string<wchar_t, std::char_traits<wchar_t>, std::allocator<wchar_t> >&)@GLIBCXX_3.4'\n",
      "/home/setup/miniconda3/envs/sft/compiler_compat/ld: /usr/local/cuda-12.3/lib64/libcufile.so: undefined reference to `std::cout@GLIBCXX_3.4'\n",
      "/home/setup/miniconda3/envs/sft/compiler_compat/ld: /usr/local/cuda-12.3/lib64/libcufile.so: undefined reference to `std::ostream& std::ostream::_M_insert<unsigned long long>(unsigned long long)@GLIBCXX_3.4.9'\n",
      "/home/setup/miniconda3/envs/sft/compiler_compat/ld: /usr/local/cuda-12.3/lib64/libcufile.so: undefined reference to `std::ostream& std::ostream::_M_insert<void const*>(void const*)@GLIBCXX_3.4.9'\n",
      "/home/setup/miniconda3/envs/sft/compiler_compat/ld: /usr/local/cuda-12.3/lib64/libcufile.so: undefined reference to `vtable for std::underflow_error@GLIBCXX_3.4'\n",
      "/home/setup/miniconda3/envs/sft/compiler_compat/ld: /usr/local/cuda-12.3/lib64/libcufile.so: undefined reference to `vtable for std::basic_streambuf<char, std::char_traits<char> >@GLIBCXX_3.4'\n",
      "/home/setup/miniconda3/envs/sft/compiler_compat/ld: /usr/local/cuda-12.3/lib64/libcufile.so: undefined reference to `typeinfo for std::out_of_range@GLIBCXX_3.4'\n",
      "/home/setup/miniconda3/envs/sft/compiler_compat/ld: /usr/local/cuda-12.3/lib64/libcufile.so: undefined reference to `__cxa_allocate_exception@CXXABI_1.3'\n",
      "/home/setup/miniconda3/envs/sft/compiler_compat/ld: /usr/local/cuda-12.3/lib64/libcufile.so: undefined reference to `vtable for std::basic_ios<wchar_t, std::char_traits<wchar_t> >@GLIBCXX_3.4'\n",
      "/home/setup/miniconda3/envs/sft/compiler_compat/ld: /usr/local/cuda-12.3/lib64/libcufile.so: undefined reference to `typeinfo for void const*@CXXABI_1.3'\n",
      "/home/setup/miniconda3/envs/sft/compiler_compat/ld: /usr/local/cuda-12.3/lib64/libcufile.so: undefined reference to `std::basic_ios<wchar_t, std::char_traits<wchar_t> >::init(std::basic_streambuf<wchar_t, std::char_traits<wchar_t> >*)@GLIBCXX_3.4'\n",
      "/home/setup/miniconda3/envs/sft/compiler_compat/ld: /usr/local/cuda-12.3/lib64/libcufile.so: undefined reference to `std::string::reserve(unsigned long)@GLIBCXX_3.4'\n",
      "/home/setup/miniconda3/envs/sft/compiler_compat/ld: /usr/local/cuda-12.3/lib64/libcufile.so: undefined reference to `__cxa_begin_catch@CXXABI_1.3'\n",
      "/home/setup/miniconda3/envs/sft/compiler_compat/ld: /usr/local/cuda-12.3/lib64/libcufile.so: undefined reference to `typeinfo for long@CXXABI_1.3'\n",
      "/home/setup/miniconda3/envs/sft/compiler_compat/ld: /usr/local/cuda-12.3/lib64/libcufile.so: undefined reference to `std::basic_string<wchar_t, std::char_traits<wchar_t>, std::allocator<wchar_t> >::_Rep::_S_empty_rep_storage@GLIBCXX_3.4'\n",
      "/home/setup/miniconda3/envs/sft/compiler_compat/ld: /usr/local/cuda-12.3/lib64/libcufile.so: undefined reference to `std::string::_M_leak()@GLIBCXX_3.4'\n",
      "/home/setup/miniconda3/envs/sft/compiler_compat/ld: /usr/local/cuda-12.3/lib64/libcufile.so: undefined reference to `std::basic_filebuf<char, std::char_traits<char> >::open(char const*, std::_Ios_Openmode)@GLIBCXX_3.4'\n",
      "/home/setup/miniconda3/envs/sft/compiler_compat/ld: /usr/local/cuda-12.3/lib64/libcufile.so: undefined reference to `std::basic_stringbuf<wchar_t, std::char_traits<wchar_t>, std::allocator<wchar_t> >::_M_sync(wchar_t*, unsigned long, unsigned long)@GLIBCXX_3.4'\n",
      "/home/setup/miniconda3/envs/sft/compiler_compat/ld: /usr/local/cuda-12.3/lib64/libcufile.so: undefined reference to `std::istream::getline(char*, long, char)@GLIBCXX_3.4'\n",
      "/home/setup/miniconda3/envs/sft/compiler_compat/ld: /usr/local/cuda-12.3/lib64/libcufile.so: undefined reference to `std::basic_istream<char, std::char_traits<char> >& std::getline<char, std::char_traits<char>, std::allocator<char> >(std::basic_istream<char, std::char_traits<char> >&, std::basic_string<char, std::char_traits<char>, std::allocator<char> >&, char)@GLIBCXX_3.4'\n",
      "/home/setup/miniconda3/envs/sft/compiler_compat/ld: /usr/local/cuda-12.3/lib64/libcufile.so: undefined reference to `vtable for std::basic_stringstream<wchar_t, std::char_traits<wchar_t>, std::allocator<wchar_t> >@GLIBCXX_3.4'\n",
      "/home/setup/miniconda3/envs/sft/compiler_compat/ld: /usr/local/cuda-12.3/lib64/libcufile.so: undefined reference to `std::condition_variable::~condition_variable()@GLIBCXX_3.4.11'\n",
      "/home/setup/miniconda3/envs/sft/compiler_compat/ld: /usr/local/cuda-12.3/lib64/libcufile.so: undefined reference to `vtable for std::basic_stringbuf<wchar_t, std::char_traits<wchar_t>, std::allocator<wchar_t> >@GLIBCXX_3.4'\n",
      "/home/setup/miniconda3/envs/sft/compiler_compat/ld: /usr/local/cuda-12.3/lib64/libcufile.so: undefined reference to `std::string::insert(unsigned long, char const*, unsigned long)@GLIBCXX_3.4'\n",
      "/home/setup/miniconda3/envs/sft/compiler_compat/ld: /usr/local/cuda-12.3/lib64/libcufile.so: undefined reference to `std::string::assign(char const*, unsigned long)@GLIBCXX_3.4'\n",
      "/home/setup/miniconda3/envs/sft/compiler_compat/ld: /usr/local/cuda-12.3/lib64/libcufile.so: undefined reference to `typeinfo for unsigned char@CXXABI_1.3'\n",
      "/home/setup/miniconda3/envs/sft/compiler_compat/ld: /usr/local/cuda-12.3/lib64/libcufile.so: undefined reference to `std::ios_base::ios_base()@GLIBCXX_3.4'\n",
      "/home/setup/miniconda3/envs/sft/compiler_compat/ld: /usr/local/cuda-12.3/lib64/libcufile.so: undefined reference to `std::__throw_out_of_range(char const*)@GLIBCXX_3.4'\n",
      "/home/setup/miniconda3/envs/sft/compiler_compat/ld: /usr/local/cuda-12.3/lib64/libcufile.so: undefined reference to `std::overflow_error::~overflow_error()@GLIBCXX_3.4'\n",
      "/home/setup/miniconda3/envs/sft/compiler_compat/ld: /usr/local/cuda-12.3/lib64/libcufile.so: undefined reference to `std::__throw_length_error(char const*)@GLIBCXX_3.4'\n",
      "/home/setup/miniconda3/envs/sft/compiler_compat/ld: /usr/local/cuda-12.3/lib64/libcufile.so: undefined reference to `std::__throw_system_error(int)@GLIBCXX_3.4.11'\n",
      "/home/setup/miniconda3/envs/sft/compiler_compat/ld: /usr/local/cuda-12.3/lib64/libcufile.so: undefined reference to `std::basic_ofstream<char, std::char_traits<char> >::close()@GLIBCXX_3.4'\n",
      "/home/setup/miniconda3/envs/sft/compiler_compat/ld: /usr/local/cuda-12.3/lib64/libcufile.so: undefined reference to `std::ostream& std::ostream::_M_insert<double>(double)@GLIBCXX_3.4.9'\n",
      "/home/setup/miniconda3/envs/sft/compiler_compat/ld: /usr/local/cuda-12.3/lib64/libcufile.so: undefined reference to `std::basic_streambuf<char, std::char_traits<char> >::operator=(std::basic_streambuf<char, std::char_traits<char> > const&)@GLIBCXX_3.4'\n",
      "/home/setup/miniconda3/envs/sft/compiler_compat/ld: /usr/local/cuda-12.3/lib64/libcufile.so: undefined reference to `typeinfo for long long@CXXABI_1.3'\n",
      "/home/setup/miniconda3/envs/sft/compiler_compat/ld: /usr/local/cuda-12.3/lib64/libcufile.so: undefined reference to `std::basic_string<char, std::char_traits<char>, std::allocator<char> >::basic_string(char const*, unsigned long, std::allocator<char> const&)@GLIBCXX_3.4'\n",
      "/home/setup/miniconda3/envs/sft/compiler_compat/ld: /usr/local/cuda-12.3/lib64/libcufile.so: undefined reference to `std::basic_ifstream<char, std::char_traits<char> >::close()@GLIBCXX_3.4'\n",
      "/home/setup/miniconda3/envs/sft/compiler_compat/ld: /usr/local/cuda-12.3/lib64/libcufile.so: undefined reference to `__cxa_guard_release@CXXABI_1.3'\n",
      "/home/setup/miniconda3/envs/sft/compiler_compat/ld: /usr/local/cuda-12.3/lib64/libcufile.so: undefined reference to `__cxa_throw@CXXABI_1.3'\n",
      "/home/setup/miniconda3/envs/sft/compiler_compat/ld: /usr/local/cuda-12.3/lib64/libcufile.so: undefined reference to `std::underflow_error::~underflow_error()@GLIBCXX_3.4'\n",
      "/home/setup/miniconda3/envs/sft/compiler_compat/ld: /usr/local/cuda-12.3/lib64/libcufile.so: undefined reference to `std::_Rb_tree_decrement(std::_Rb_tree_node_base*)@GLIBCXX_3.4'\n",
      "/home/setup/miniconda3/envs/sft/compiler_compat/ld: /usr/local/cuda-12.3/lib64/libcufile.so: undefined reference to `vtable for std::length_error@GLIBCXX_3.4'\n",
      "/home/setup/miniconda3/envs/sft/compiler_compat/ld: /usr/local/cuda-12.3/lib64/libcufile.so: undefined reference to `std::basic_filebuf<char, std::char_traits<char> >::~basic_filebuf()@GLIBCXX_3.4'\n",
      "collect2: error: ld returned 1 exit status\n",
      "/home/setup/miniconda3/envs/sft/lib/python3.11/site-packages/transformers/integrations/peft.py:397: FutureWarning: The `active_adapter` method is deprecated and will be removed in a future version.\n",
      "  warnings.warn(\n",
      "adapter_model.safetensors: 100%|██████████| 1.34G/1.34G [02:21<00:00, 9.49MB/s]\n"
     ]
    },
    {
     "data": {
      "text/plain": [
       "CommitInfo(commit_url='https://huggingface.co/kanhatakeyama/Tanuki-8B-dpo-v1.0-twitter-lora-r128-exp1/commit/deb98c8d236f6ce44acedcf5eb4836fb6024109a', commit_message='Upload LlamaForCausalLM', commit_description='', oid='deb98c8d236f6ce44acedcf5eb4836fb6024109a', pr_url=None, pr_revision=None, pr_num=None)"
      ]
     },
     "execution_count": 4,
     "metadata": {},
     "output_type": "execute_result"
    }
   ],
   "source": [
    "#model.push_to_hub(\"Tanuki-8B-dpo-v1.0-twitter-lora-r128-exp1\")"
   ]
  },
  {
   "cell_type": "code",
   "execution_count": null,
   "metadata": {},
   "outputs": [],
   "source": []
  }
 ],
 "metadata": {
  "kernelspec": {
   "display_name": "vllm",
   "language": "python",
   "name": "python3"
  },
  "language_info": {
   "codemirror_mode": {
    "name": "ipython",
    "version": 3
   },
   "file_extension": ".py",
   "mimetype": "text/x-python",
   "name": "python",
   "nbconvert_exporter": "python",
   "pygments_lexer": "ipython3",
   "version": "3.11.9"
  }
 },
 "nbformat": 4,
 "nbformat_minor": 2
}
