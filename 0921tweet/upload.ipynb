{
 "cells": [
  {
   "cell_type": "code",
   "execution_count": 38,
   "metadata": {},
   "outputs": [],
   "source": [
    "# 対話データの清掃"
   ]
  },
  {
   "cell_type": "code",
   "execution_count": 1,
   "metadata": {},
   "outputs": [
    {
     "data": {
      "text/plain": [
       "3"
      ]
     },
     "execution_count": 1,
     "metadata": {},
     "output_type": "execute_result"
    }
   ],
   "source": [
    "import json\n",
    "import glob\n",
    "\n",
    "dir_list=[\n",
    "    \"/data/2024_llm/0921tweet/data\",\n",
    "]\n",
    "jsonl_path_list=[]\n",
    "for dir in dir_list:\n",
    "    jsonl_path_list+=glob.glob(dir+\"/*.jsonl\")\n",
    "\n",
    "len(jsonl_path_list)"
   ]
  },
  {
   "cell_type": "code",
   "execution_count": 2,
   "metadata": {},
   "outputs": [],
   "source": [
    "conv_list=[]\n",
    "for jsonl_path in jsonl_path_list:\n",
    "    with open(jsonl_path) as f:\n",
    "        for line in f:\n",
    "            conv_list.append(json.loads(line))"
   ]
  },
  {
   "cell_type": "code",
   "execution_count": 3,
   "metadata": {},
   "outputs": [
    {
     "data": {
      "text/plain": [
       "7388500"
      ]
     },
     "execution_count": 3,
     "metadata": {},
     "output_type": "execute_result"
    }
   ],
   "source": [
    "len(conv_list)"
   ]
  },
  {
   "cell_type": "code",
   "execution_count": 4,
   "metadata": {},
   "outputs": [
    {
     "data": {
      "text/plain": [
       "7388500"
      ]
     },
     "execution_count": 4,
     "metadata": {},
     "output_type": "execute_result"
    }
   ],
   "source": [
    "i=0\n",
    "cleaned_messages=[]\n",
    "for i in range(len(conv_list)):\n",
    "    messages = conv_list[i]\n",
    "\n",
    "    # トークン長の都合で空のmessageを削除\n",
    "    temp_messages = [message for message in messages[\"messages\"] if message[\"content\"] != \"\"]\n",
    "\n",
    "    ## トークン長やバグ出力の問題で文末が切れているデータを削除\n",
    "    #while len(temp_messages) > 0 and temp_messages[-1][\"content\"][-1] != \"。\":\n",
    "    #    # 文末が「。」で終わっていない場合、最後のメッセージを削除\n",
    "    #    temp_messages = temp_messages[:-1]\n",
    "    if len(temp_messages) == 0:\n",
    "        continue\n",
    "    cleaned_messages.append({\"messages\": temp_messages})\n",
    "\n",
    "len(cleaned_messages)"
   ]
  },
  {
   "cell_type": "code",
   "execution_count": 6,
   "metadata": {},
   "outputs": [
    {
     "name": "stderr",
     "output_type": "stream",
     "text": [
      "/home/setup/miniconda3/envs/vllm/lib/python3.10/site-packages/tqdm/auto.py:21: TqdmWarning: IProgress not found. Please update jupyter and ipywidgets. See https://ipywidgets.readthedocs.io/en/stable/user_install.html\n",
      "  from .autonotebook import tqdm as notebook_tqdm\n"
     ]
    }
   ],
   "source": [
    "import datasets\n",
    "dataset = datasets.Dataset.from_list(cleaned_messages)"
   ]
  },
  {
   "cell_type": "code",
   "execution_count": 7,
   "metadata": {},
   "outputs": [
    {
     "name": "stderr",
     "output_type": "stream",
     "text": [
      "Creating parquet from Arrow format: 100%|██████████| 1848/1848 [00:01<00:00, 1211.29ba/s]\n",
      "Creating parquet from Arrow format: 100%|██████████| 1848/1848 [00:02<00:00, 893.67ba/s] \n",
      "Creating parquet from Arrow format: 100%|██████████| 1848/1848 [00:02<00:00, 907.09ba/s] \n",
      "Creating parquet from Arrow format: 100%|██████████| 1848/1848 [00:02<00:00, 846.38ba/s]\n",
      "Uploading the dataset shards: 100%|██████████| 4/4 [02:02<00:00, 30.52s/it]\n"
     ]
    },
    {
     "data": {
      "text/plain": [
       "CommitInfo(commit_url='https://huggingface.co/datasets/kanhatakeyama/twitter-auto_reply/commit/47071e68527cb27a62cbca40ba10b58cd8e9cea0', commit_message='Upload dataset', commit_description='', oid='47071e68527cb27a62cbca40ba10b58cd8e9cea0', pr_url=None, pr_revision=None, pr_num=None)"
      ]
     },
     "execution_count": 7,
     "metadata": {},
     "output_type": "execute_result"
    }
   ],
   "source": [
    "#push to hub\n",
    "dataset.push_to_hub(\"kanhatakeyama/twitter-auto_reply\",split=\"20240923initial\")"
   ]
  },
  {
   "cell_type": "code",
   "execution_count": null,
   "metadata": {},
   "outputs": [],
   "source": []
  }
 ],
 "metadata": {
  "kernelspec": {
   "display_name": "vllm",
   "language": "python",
   "name": "python3"
  },
  "language_info": {
   "codemirror_mode": {
    "name": "ipython",
    "version": 3
   },
   "file_extension": ".py",
   "mimetype": "text/x-python",
   "name": "python",
   "nbconvert_exporter": "python",
   "pygments_lexer": "ipython3",
   "version": "3.10.14"
  }
 },
 "nbformat": 4,
 "nbformat_minor": 2
}
