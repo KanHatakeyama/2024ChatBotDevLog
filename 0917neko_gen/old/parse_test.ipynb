{
 "cells": [
  {
   "cell_type": "code",
   "execution_count": null,
   "metadata": {},
   "outputs": [],
   "source": [
    "# 吾輩は猫であるをもとにtextを生成する\n",
    "\n",
    "\"\"\"\n",
    "vllm\n",
    "\n",
    "\n",
    "python -m vllm.entrypoints.openai.api_server --model cyberagent/calm3-22b-chat\n",
    "\n",
    "export LIBRARY_PATH=\"/usr/local/cuda-12.3/lib64/stubs:$LIBRARY_PATH\"\n",
    "python -m vllm.entrypoints.openai.api_server --model weblab-GENIAC/Tanuki-8x8B-dpo-v1.0     --max-model-len 4096 --port 8000 --gpu-memory-utilization 0.9     --trust-remote-code --tensor-parallel-size 2\n",
    "\n",
    "\"\"\""
   ]
  },
  {
   "cell_type": "code",
   "execution_count": 10,
   "metadata": {},
   "outputs": [
    {
     "data": {
      "text/plain": [
       "2105"
      ]
     },
     "execution_count": 10,
     "metadata": {},
     "output_type": "execute_result"
    }
   ],
   "source": [
    "#元の文章のparse\n",
    "neko_path=\"data/neko.txt\"\n",
    "with open(neko_path,\"r\") as f:\n",
    "    text=f.read()\n",
    "\n",
    "#clean\n",
    "lines=text.split(\"\\n\")\n",
    "new_lines=[]\n",
    "for line in lines:\n",
    "    line=line.strip()\n",
    "    if len(line)<10:\n",
    "        continue\n",
    "    new_lines.append(line)\n",
    "\n",
    "len(new_lines)"
   ]
  },
  {
   "cell_type": "code",
   "execution_count": 14,
   "metadata": {},
   "outputs": [],
   "source": [
    "\n",
    "from openai import OpenAI\n",
    "\n",
    "# Modify OpenAI's API key and API base to use vLLM's API server.\n",
    "#openai_api_base = \"http://localhost:8080/v1\"\n",
    "openai_api_base=\"http://0.0.0.0:8000/v1\"\n",
    "client = OpenAI(\n",
    "    base_url=openai_api_base,\n",
    ")\n",
    "\n",
    "model_name=\"AXCXEPT/EZO-Common-9B-gemma-2-it\"\n",
    "model_name=\"weblab-GENIAC/Tanuki-8x8B-dpo-v1.0\"\n"
   ]
  },
  {
   "cell_type": "code",
   "execution_count": 64,
   "metadata": {},
   "outputs": [],
   "source": [
    "import random\n",
    "\n",
    "\n",
    "genres=[\n",
    "\"心温まる日常会話\",\n",
    "\"楽しい会話\",\n",
    "\"ユーモラスな会話\",\n",
    "\"日常会話\",\n",
    "\"傾聴の会話\",\n",
    "\"相手の興味をそそる会話\",\n",
    "]\n",
    "\n",
    "def gen_text():\n",
    "    line=random.choice(new_lines)\n",
    "    genre=random.choice(genres)\n",
    "\n",
    "    system_message=f\"\"\"以下は、タスクを説明する指示です。要求を適切に満たす応答を書きなさい。\n",
    "    次の文章をもとに､userとassistantの{genre}を作成してください｡対話はタメ口で行われ､敬語は使いません｡\n",
    "    \"\"\"\n",
    "\n",
    "    prompt=f\"\"\"\n",
    "    #参考にする文章: {line}\n",
    "    \"\"\"\n",
    "\n",
    "    messages = [\n",
    "        {\"role\": \"system\", \"content\": system_message},\n",
    "        {\"role\": \"user\", \"content\": prompt}\n",
    "                ]\n",
    "    completion = client.chat.completions.create(model=model_name,\n",
    "                                                messages=messages,\n",
    "                                                temperature=0.7,\n",
    "                                                max_tokens=1024,\n",
    "                                                #skip_special_tokens=False,\n",
    "                                                stop=\"### 指示:\",\n",
    "                                                )\n",
    "    text = completion.choices[0].message.content.strip()\n",
    "    return text"
   ]
  },
  {
   "cell_type": "code",
   "execution_count": 74,
   "metadata": {},
   "outputs": [
    {
     "name": "stderr",
     "output_type": "stream",
     "text": [
      "  2%|▏         | 178/10000 [16:26<13:01:53,  4.78s/it]"
     ]
    }
   ],
   "source": [
    "import json\n",
    "from tqdm import tqdm\n",
    "import time\n",
    "out_file_path=\"data/neko_gen.jsonl\"\n",
    "\n",
    "with open(out_file_path,\"a\") as f:\n",
    "    for i in tqdm(range(10**4)):\n",
    "        text=gen_text()\n",
    "        f.write(json.dumps({\"text\":text},ensure_ascii=False)+\"\\n\")\n",
    "        time.sleep(1)"
   ]
  },
  {
   "cell_type": "code",
   "execution_count": null,
   "metadata": {},
   "outputs": [],
   "source": [
    "\"\"\"\n",
    "upload\n",
    "huggingface-cli upload multiturn-conv-from-wagahai-neko data/neko_gen.jsonl data.jsonl --repo-type dataset\n",
    "\n",
    "\"\"\""
   ]
  },
  {
   "cell_type": "code",
   "execution_count": null,
   "metadata": {},
   "outputs": [],
   "source": []
  }
 ],
 "metadata": {
  "kernelspec": {
   "display_name": "vllm",
   "language": "python",
   "name": "python3"
  },
  "language_info": {
   "codemirror_mode": {
    "name": "ipython",
    "version": 3
   },
   "file_extension": ".py",
   "mimetype": "text/x-python",
   "name": "python",
   "nbconvert_exporter": "python",
   "pygments_lexer": "ipython3",
   "version": "3.10.14"
  }
 },
 "nbformat": 4,
 "nbformat_minor": 2
}
