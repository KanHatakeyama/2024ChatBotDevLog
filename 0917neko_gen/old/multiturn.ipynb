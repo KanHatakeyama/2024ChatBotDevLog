{
 "cells": [
  {
   "cell_type": "code",
   "execution_count": 1,
   "metadata": {},
   "outputs": [],
   "source": [
    "\n",
    "\n",
    "from openai import OpenAI\n",
    "\n",
    "# Modify OpenAI's API key and API base to use vLLM's API server.\n",
    "#openai_api_base = \"http://localhost:8080/v1\"\n",
    "openai_api_base=\"http://0.0.0.0:8000/v1\"\n",
    "client = OpenAI(\n",
    "    base_url=openai_api_base,\n",
    ")\n",
    "\n",
    "model_name=\"AXCXEPT/EZO-Common-9B-gemma-2-it\"\n",
    "model_name=\"weblab-GENIAC/Tanuki-8x8B-dpo-v1.0\"\n",
    "model_name=\"cyberagent/calm3-22b-chat\"\n"
   ]
  },
  {
   "cell_type": "code",
   "execution_count": 2,
   "metadata": {},
   "outputs": [
    {
     "data": {
      "text/plain": [
       "2105"
      ]
     },
     "execution_count": 2,
     "metadata": {},
     "output_type": "execute_result"
    }
   ],
   "source": [
    "\n",
    "#元の文章のparse\n",
    "neko_path=\"data/neko.txt\"\n",
    "with open(neko_path,\"r\") as f:\n",
    "    text=f.read()\n",
    "\n",
    "#clean\n",
    "lines=text.split(\"\\n\")\n",
    "new_lines=[]\n",
    "for line in lines:\n",
    "    line=line.strip()\n",
    "    if len(line)<10:\n",
    "        continue\n",
    "    new_lines.append(line)\n",
    "\n",
    "len(new_lines)"
   ]
  },
  {
   "cell_type": "code",
   "execution_count": 3,
   "metadata": {},
   "outputs": [],
   "source": [
    "\n",
    "import random\n",
    "\n",
    "\n",
    "genres=[\n",
    "\"心温まる日常会話\",\n",
    "\"楽しい会話\",\n",
    "\"ユーモラスな会話\",\n",
    "\"日常会話\",\n",
    "\"傾聴の会話\",\n",
    "\"相手の興味をそそる会話\",\n",
    "]\n",
    "def clean_output(text):\n",
    "    if text.startswith(\"「\"):\n",
    "        text=text[1:]\n",
    "    if text.endswith(\"」\"):\n",
    "        text=text[:-1]\n",
    "    return text\n",
    "\n",
    "def ask_model(messages,client):\n",
    "    completion = client.chat.completions.create(model=model_name,\n",
    "                                                messages=messages,\n",
    "                                                temperature=0.7,\n",
    "                                                max_tokens=1024,\n",
    "                                                #skip_special_tokens=False,\n",
    "                                                stop=\"### 指示:\",\n",
    "                                                )\n",
    "    text = completion.choices[0].message.content.strip()\n",
    "    text=clean_output(text)\n",
    "    return text\n",
    "def gen_init_text(line,genre):\n",
    "    system_message=f\"\"\"\n",
    "    次の文章をもとに､{genre}のはじめのセリフを出力しなさい｡対話はタメ口で行われ､敬語は使いません｡セリフのみを出力し、それ以外は何も出力しないでください｡\n",
    "    \"\"\"\n",
    "\n",
    "\n",
    "    prompt=f\"\"\"\n",
    "    #参考にする文章: {line}\n",
    "    \"\"\"\n",
    "\n",
    "    messages = [\n",
    "        {\"role\": \"system\", \"content\": system_message},\n",
    "        {\"role\": \"user\", \"content\": prompt}\n",
    "                ]\n",
    "    text=ask_model(messages,client)\n",
    "    return text"
   ]
  },
  {
   "cell_type": "code",
   "execution_count": 4,
   "metadata": {},
   "outputs": [],
   "source": [
    "n_replies=4\n",
    "def gen_text(new_lines,genres,client,\n",
    "        n_replies=8):\n",
    "    line=random.choice(new_lines)\n",
    "    genre=random.choice(genres)\n",
    "\n",
    "\n",
    "\n",
    "    text=gen_init_text(line,genre)\n",
    "\n",
    "    system_message=f\"\"\"{genre}の返答文を生成しなさい｡対話はタメ口で行われ､敬語は使いません｡セリフのみを出力し、それ以外は何も出力しないでください｡\"\"\"\n",
    "    messages = [\n",
    "        {\"role\": \"system\", \"content\": system_message},\n",
    "        {\"role\": \"user\", \"content\": text}\n",
    "        ]\n",
    "\n",
    "    for j in range(n_replies):\n",
    "\n",
    "        res=ask_model(messages,client)\n",
    "        if j%2==1:\n",
    "            messages.append({\"role\": \"user\", \"content\": res})\n",
    "        else:\n",
    "            messages.append({\"role\": \"assistant\", \"content\": res})\n",
    "\n",
    "    return messages"
   ]
  },
  {
   "cell_type": "code",
   "execution_count": 5,
   "metadata": {},
   "outputs": [
    {
     "data": {
      "text/plain": [
       "[{'role': 'system',\n",
       "  'content': 'ユーモラスな会話の返答文を生成しなさい｡対話はタメ口で行われ､敬語は使いません｡セリフのみを出力し、それ以外は何も出力しないでください｡'},\n",
       " {'role': 'user',\n",
       "  'content': 'お前、また蕎麦の話か？この前も饂飩の話してたじゃん。そんなに蕎麦が好きなら、蕎麦屋でも始めれば？'},\n",
       " {'role': 'assistant',\n",
       "  'content': '蕎麦屋かー、それもいいかもな！でも、まずは美味しい蕎麦が打てるようにならなきゃな。毎日食べても飽きないくらいの美味しさを目指したいね。'},\n",
       " {'role': 'user',\n",
       "  'content': '毎日蕎麦でも全然飽きないとか、どんだけ好きなんだよ！まぁ、でも確かにソバってマジで奥が深いよな。打ち方一つで全然違う味になるし。'},\n",
       " {'role': 'assistant',\n",
       "  'content': 'そうそう！温度とか湿度でも全然違うんだよ。だから、毎回同じ味にするのが大変なんだ。でも、その分、上手くいった時の感動はすごいんだよね。'},\n",
       " {'role': 'user',\n",
       "  'content': 'わかるわー。俺も試しに打ってみたけど、全然ダメだった。まあ、練習あるのみだよね。でも、お前が打った蕎麦、一度食べてみたいな。'},\n",
       " {'role': 'assistant',\n",
       "  'content': 'おお、それは楽しみにしててくれ！美味しい蕎麦打てるように、毎日練習してるからさ。一緒に蕎麦パーティーとかどう？'},\n",
       " {'role': 'user',\n",
       "  'content': 'それ、いいじゃん！じゃあ、週末にでもやってみようぜ。みんなで集まってワイワイやるのも楽しそうだし。'},\n",
       " {'role': 'assistant',\n",
       "  'content': '最高だな！じゃあ、材料とか準備しておくから、みんなに連絡しといてよ。美味しい蕎麦と、あとは何食べようか？'}]"
      ]
     },
     "execution_count": 5,
     "metadata": {},
     "output_type": "execute_result"
    }
   ],
   "source": [
    "messages=gen_text(new_lines,genres,client,n_replies=7)\n",
    "messages"
   ]
  },
  {
   "cell_type": "code",
   "execution_count": 6,
   "metadata": {},
   "outputs": [
    {
     "name": "stderr",
     "output_type": "stream",
     "text": [
      "  0%|          | 9/10000 [01:07<20:55:14,  7.54s/it]\n"
     ]
    },
    {
     "ename": "KeyboardInterrupt",
     "evalue": "",
     "output_type": "error",
     "traceback": [
      "\u001b[0;31m---------------------------------------------------------------------------\u001b[0m",
      "\u001b[0;31mKeyboardInterrupt\u001b[0m                         Traceback (most recent call last)",
      "Cell \u001b[0;32mIn[6], line 10\u001b[0m\n\u001b[1;32m      8\u001b[0m messages\u001b[38;5;241m=\u001b[39mgen_text(new_lines,genres,client,n_replies\u001b[38;5;241m=\u001b[39m\u001b[38;5;241m7\u001b[39m)\n\u001b[1;32m      9\u001b[0m f\u001b[38;5;241m.\u001b[39mwrite(json\u001b[38;5;241m.\u001b[39mdumps({\u001b[38;5;124m\"\u001b[39m\u001b[38;5;124mmessages\u001b[39m\u001b[38;5;124m\"\u001b[39m:messages},ensure_ascii\u001b[38;5;241m=\u001b[39m\u001b[38;5;28;01mFalse\u001b[39;00m)\u001b[38;5;241m+\u001b[39m\u001b[38;5;124m\"\u001b[39m\u001b[38;5;130;01m\\n\u001b[39;00m\u001b[38;5;124m\"\u001b[39m)\n\u001b[0;32m---> 10\u001b[0m \u001b[43mtime\u001b[49m\u001b[38;5;241;43m.\u001b[39;49m\u001b[43msleep\u001b[49m\u001b[43m(\u001b[49m\u001b[38;5;241;43m1\u001b[39;49m\u001b[43m)\u001b[49m\n",
      "\u001b[0;31mKeyboardInterrupt\u001b[0m: "
     ]
    }
   ],
   "source": [
    "\n",
    "import json\n",
    "from tqdm import tqdm\n",
    "import time\n",
    "out_file_path=\"data/neko_gen_mult.jsonl\"\n",
    "\n",
    "with open(out_file_path,\"a\") as f:\n",
    "    for i in tqdm(range(10**4)):\n",
    "        messages=gen_text(new_lines,genres,client,n_replies=7)\n",
    "        f.write(json.dumps({\"messages\":messages},ensure_ascii=False)+\"\\n\")\n",
    "        time.sleep(1)"
   ]
  },
  {
   "cell_type": "code",
   "execution_count": null,
   "metadata": {},
   "outputs": [],
   "source": []
  }
 ],
 "metadata": {
  "kernelspec": {
   "display_name": "vllm",
   "language": "python",
   "name": "python3"
  },
  "language_info": {
   "codemirror_mode": {
    "name": "ipython",
    "version": 3
   },
   "file_extension": ".py",
   "mimetype": "text/x-python",
   "name": "python",
   "nbconvert_exporter": "python",
   "pygments_lexer": "ipython3",
   "version": "3.10.14"
  }
 },
 "nbformat": 4,
 "nbformat_minor": 2
}
